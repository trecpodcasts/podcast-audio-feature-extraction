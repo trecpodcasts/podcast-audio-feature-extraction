{
 "cells": [
  {
   "cell_type": "code",
   "execution_count": 1,
   "id": "diagnostic-validation",
   "metadata": {},
   "outputs": [],
   "source": [
    "%load_ext autoreload \n",
    "\n",
    "# automatically reload packages imported with %aimport <package>\n",
    "%autoreload 1 \n",
    "%aimport src"
   ]
  },
  {
   "cell_type": "code",
   "execution_count": 2,
   "id": "proof-vatican",
   "metadata": {},
   "outputs": [
    {
     "name": "stdout",
     "output_type": "stream",
     "text": [
      "/mnt/storage/mmars/podcast-dataset\n"
     ]
    }
   ],
   "source": [
    "cd .."
   ]
  },
  {
   "cell_type": "code",
   "execution_count": 3,
   "id": "experimental-monitor",
   "metadata": {},
   "outputs": [
    {
     "name": "stdout",
     "output_type": "stream",
     "text": [
      "4 actual GPUs, 1 in use.\n"
     ]
    }
   ],
   "source": [
    "import os\n",
    "import pickle \n",
    "\n",
    "import pandas as pd\n",
    "import matplotlib.pyplot as plt\n",
    "import numpy as np\n",
    "\n",
    "from src.data import load_metadata, find_paths\n",
    "\n",
    "import src.utils\n",
    "src.utils.gpu_setup()\n",
    "\n",
    "from omegaconf import OmegaConf\n",
    "conf = OmegaConf.load(\"./config.yaml\")"
   ]
  },
  {
   "cell_type": "markdown",
   "id": "molecular-heavy",
   "metadata": {},
   "source": [
    "# Feature extraction demo"
   ]
  },
  {
   "cell_type": "markdown",
   "id": "swedish-renaissance",
   "metadata": {},
   "source": [
    "Below you can find examples for extracting features using the different feature extractors in the package"
   ]
  },
  {
   "cell_type": "markdown",
   "id": "crazy-october",
   "metadata": {},
   "source": [
    "## Configuring input paths"
   ]
  },
  {
   "cell_type": "code",
   "execution_count": 4,
   "id": "sharp-punishment",
   "metadata": {},
   "outputs": [],
   "source": [
    "metadata = load_metadata(conf.dataset_path)\n",
    "subset = metadata.iloc[:2]"
   ]
  },
  {
   "cell_type": "code",
   "execution_count": 5,
   "id": "reliable-threat",
   "metadata": {},
   "outputs": [],
   "source": [
    "audio_directory = os.path.join(conf.dataset_path, \"podcasts-audio\")\n",
    "audio_paths = find_paths(subset, audio_directory, \".ogg\")"
   ]
  },
  {
   "cell_type": "markdown",
   "id": "public-travel",
   "metadata": {},
   "source": [
    "## eGeMAPS\n",
    "\n",
    "The eGeMAPS features can be extracted using the OpenSmile package. Below you can find an example of this. For another example or creating the features for large datasets look at \"__src/features/create_opensmile_features.py__\""
   ]
  },
  {
   "cell_type": "code",
   "execution_count": 6,
   "id": "excess-equilibrium",
   "metadata": {},
   "outputs": [],
   "source": [
    "from src.features.OpenSmileExtractor import OpenSmileExtractor"
   ]
  },
  {
   "cell_type": "code",
   "execution_count": 7,
   "id": "postal-scoop",
   "metadata": {},
   "outputs": [],
   "source": [
    "output_paths = find_paths(subset, \"./notebooks/test_results/eGeMaps/\", \".h5\")"
   ]
  },
  {
   "cell_type": "code",
   "execution_count": 8,
   "id": "coordinate-burton",
   "metadata": {},
   "outputs": [],
   "source": [
    "ex = OpenSmileExtractor()"
   ]
  },
  {
   "cell_type": "code",
   "execution_count": 9,
   "id": "delayed-density",
   "metadata": {},
   "outputs": [
    {
     "name": "stderr",
     "output_type": "stream",
     "text": [
      "100%|██████████| 2/2 [00:34<00:00, 20.31s/it]"
     ]
    }
   ],
   "source": [
    "ex.extract(audio_paths, output_paths, num_workers=1)"
   ]
  },
  {
   "cell_type": "code",
   "execution_count": 10,
   "id": "accomplished-pasta",
   "metadata": {},
   "outputs": [
    {
     "name": "stderr",
     "output_type": "stream",
     "text": [
      "100%|██████████| 2/2 [00:34<00:00, 17.32s/it]\n"
     ]
    },
    {
     "data": {
      "text/html": [
       "<div>\n",
       "<style scoped>\n",
       "    .dataframe tbody tr th:only-of-type {\n",
       "        vertical-align: middle;\n",
       "    }\n",
       "\n",
       "    .dataframe tbody tr th {\n",
       "        vertical-align: top;\n",
       "    }\n",
       "\n",
       "    .dataframe thead th {\n",
       "        text-align: right;\n",
       "    }\n",
       "</style>\n",
       "<table border=\"1\" class=\"dataframe\">\n",
       "  <thead>\n",
       "    <tr style=\"text-align: right;\">\n",
       "      <th></th>\n",
       "      <th>F0semitoneFrom27.5Hz_sma3nz_amean</th>\n",
       "      <th>F0semitoneFrom27.5Hz_sma3nz_stddevNorm</th>\n",
       "      <th>F0semitoneFrom27.5Hz_sma3nz_percentile20.0</th>\n",
       "      <th>F0semitoneFrom27.5Hz_sma3nz_percentile50.0</th>\n",
       "      <th>F0semitoneFrom27.5Hz_sma3nz_percentile80.0</th>\n",
       "      <th>F0semitoneFrom27.5Hz_sma3nz_pctlrange0-2</th>\n",
       "      <th>F0semitoneFrom27.5Hz_sma3nz_meanRisingSlope</th>\n",
       "      <th>F0semitoneFrom27.5Hz_sma3nz_stddevRisingSlope</th>\n",
       "      <th>F0semitoneFrom27.5Hz_sma3nz_meanFallingSlope</th>\n",
       "      <th>F0semitoneFrom27.5Hz_sma3nz_stddevFallingSlope</th>\n",
       "      <th>...</th>\n",
       "      <th>slopeUV0-500_sma3nz_amean</th>\n",
       "      <th>slopeUV500-1500_sma3nz_amean</th>\n",
       "      <th>spectralFluxUV_sma3nz_amean</th>\n",
       "      <th>loudnessPeaksPerSec</th>\n",
       "      <th>VoicedSegmentsPerSec</th>\n",
       "      <th>MeanVoicedSegmentLengthSec</th>\n",
       "      <th>StddevVoicedSegmentLengthSec</th>\n",
       "      <th>MeanUnvoicedSegmentLength</th>\n",
       "      <th>StddevUnvoicedSegmentLength</th>\n",
       "      <th>equivalentSoundLevel_dBp</th>\n",
       "    </tr>\n",
       "    <tr>\n",
       "      <th>time (s)</th>\n",
       "      <th></th>\n",
       "      <th></th>\n",
       "      <th></th>\n",
       "      <th></th>\n",
       "      <th></th>\n",
       "      <th></th>\n",
       "      <th></th>\n",
       "      <th></th>\n",
       "      <th></th>\n",
       "      <th></th>\n",
       "      <th></th>\n",
       "      <th></th>\n",
       "      <th></th>\n",
       "      <th></th>\n",
       "      <th></th>\n",
       "      <th></th>\n",
       "      <th></th>\n",
       "      <th></th>\n",
       "      <th></th>\n",
       "      <th></th>\n",
       "      <th></th>\n",
       "    </tr>\n",
       "  </thead>\n",
       "  <tbody>\n",
       "    <tr>\n",
       "      <th>0.00</th>\n",
       "      <td>14.980252</td>\n",
       "      <td>0.164999</td>\n",
       "      <td>12.478530</td>\n",
       "      <td>14.383453</td>\n",
       "      <td>16.756065</td>\n",
       "      <td>4.277535</td>\n",
       "      <td>113.373398</td>\n",
       "      <td>28.009075</td>\n",
       "      <td>-16.222733</td>\n",
       "      <td>106.673019</td>\n",
       "      <td>...</td>\n",
       "      <td>-0.072074</td>\n",
       "      <td>-0.016952</td>\n",
       "      <td>0.613909</td>\n",
       "      <td>5.208333</td>\n",
       "      <td>4.166667</td>\n",
       "      <td>0.0425</td>\n",
       "      <td>0.022776</td>\n",
       "      <td>0.1775</td>\n",
       "      <td>0.117766</td>\n",
       "      <td>-26.653774</td>\n",
       "    </tr>\n",
       "    <tr>\n",
       "      <th>0.48</th>\n",
       "      <td>14.568699</td>\n",
       "      <td>0.122981</td>\n",
       "      <td>12.739090</td>\n",
       "      <td>14.312546</td>\n",
       "      <td>16.262573</td>\n",
       "      <td>3.523483</td>\n",
       "      <td>190.686447</td>\n",
       "      <td>93.175095</td>\n",
       "      <td>112.389160</td>\n",
       "      <td>56.656677</td>\n",
       "      <td>...</td>\n",
       "      <td>-0.079065</td>\n",
       "      <td>-0.015573</td>\n",
       "      <td>0.813931</td>\n",
       "      <td>6.250000</td>\n",
       "      <td>4.166667</td>\n",
       "      <td>0.0550</td>\n",
       "      <td>0.025981</td>\n",
       "      <td>0.1280</td>\n",
       "      <td>0.091739</td>\n",
       "      <td>-24.583828</td>\n",
       "    </tr>\n",
       "    <tr>\n",
       "      <th>0.96</th>\n",
       "      <td>15.219687</td>\n",
       "      <td>0.332967</td>\n",
       "      <td>12.149195</td>\n",
       "      <td>14.312546</td>\n",
       "      <td>16.328596</td>\n",
       "      <td>4.179401</td>\n",
       "      <td>320.533661</td>\n",
       "      <td>168.895844</td>\n",
       "      <td>117.873878</td>\n",
       "      <td>44.024380</td>\n",
       "      <td>...</td>\n",
       "      <td>-0.083970</td>\n",
       "      <td>-0.004822</td>\n",
       "      <td>0.888226</td>\n",
       "      <td>8.333334</td>\n",
       "      <td>5.208333</td>\n",
       "      <td>0.0600</td>\n",
       "      <td>0.031623</td>\n",
       "      <td>0.1425</td>\n",
       "      <td>0.056292</td>\n",
       "      <td>-23.906471</td>\n",
       "    </tr>\n",
       "    <tr>\n",
       "      <th>1.44</th>\n",
       "      <td>35.116810</td>\n",
       "      <td>0.334329</td>\n",
       "      <td>17.715223</td>\n",
       "      <td>41.543777</td>\n",
       "      <td>41.648491</td>\n",
       "      <td>23.933268</td>\n",
       "      <td>347.030121</td>\n",
       "      <td>243.559845</td>\n",
       "      <td>51.579926</td>\n",
       "      <td>36.412964</td>\n",
       "      <td>...</td>\n",
       "      <td>-0.088274</td>\n",
       "      <td>-0.002470</td>\n",
       "      <td>0.935528</td>\n",
       "      <td>2.083333</td>\n",
       "      <td>2.083333</td>\n",
       "      <td>0.3200</td>\n",
       "      <td>0.210000</td>\n",
       "      <td>0.1400</td>\n",
       "      <td>0.060000</td>\n",
       "      <td>-13.505047</td>\n",
       "    </tr>\n",
       "    <tr>\n",
       "      <th>1.92</th>\n",
       "      <td>40.793335</td>\n",
       "      <td>0.050241</td>\n",
       "      <td>40.204323</td>\n",
       "      <td>41.552383</td>\n",
       "      <td>41.740482</td>\n",
       "      <td>1.536160</td>\n",
       "      <td>13.953377</td>\n",
       "      <td>7.437013</td>\n",
       "      <td>31.031654</td>\n",
       "      <td>0.000000</td>\n",
       "      <td>...</td>\n",
       "      <td>-0.063376</td>\n",
       "      <td>0.021280</td>\n",
       "      <td>4.013304</td>\n",
       "      <td>5.208333</td>\n",
       "      <td>2.083333</td>\n",
       "      <td>0.4500</td>\n",
       "      <td>0.180000</td>\n",
       "      <td>0.0300</td>\n",
       "      <td>0.000000</td>\n",
       "      <td>-9.862471</td>\n",
       "    </tr>\n",
       "  </tbody>\n",
       "</table>\n",
       "<p>5 rows × 88 columns</p>\n",
       "</div>"
      ],
      "text/plain": [
       "          F0semitoneFrom27.5Hz_sma3nz_amean  \\\n",
       "time (s)                                      \n",
       "0.00                              14.980252   \n",
       "0.48                              14.568699   \n",
       "0.96                              15.219687   \n",
       "1.44                              35.116810   \n",
       "1.92                              40.793335   \n",
       "\n",
       "          F0semitoneFrom27.5Hz_sma3nz_stddevNorm  \\\n",
       "time (s)                                           \n",
       "0.00                                    0.164999   \n",
       "0.48                                    0.122981   \n",
       "0.96                                    0.332967   \n",
       "1.44                                    0.334329   \n",
       "1.92                                    0.050241   \n",
       "\n",
       "          F0semitoneFrom27.5Hz_sma3nz_percentile20.0  \\\n",
       "time (s)                                               \n",
       "0.00                                       12.478530   \n",
       "0.48                                       12.739090   \n",
       "0.96                                       12.149195   \n",
       "1.44                                       17.715223   \n",
       "1.92                                       40.204323   \n",
       "\n",
       "          F0semitoneFrom27.5Hz_sma3nz_percentile50.0  \\\n",
       "time (s)                                               \n",
       "0.00                                       14.383453   \n",
       "0.48                                       14.312546   \n",
       "0.96                                       14.312546   \n",
       "1.44                                       41.543777   \n",
       "1.92                                       41.552383   \n",
       "\n",
       "          F0semitoneFrom27.5Hz_sma3nz_percentile80.0  \\\n",
       "time (s)                                               \n",
       "0.00                                       16.756065   \n",
       "0.48                                       16.262573   \n",
       "0.96                                       16.328596   \n",
       "1.44                                       41.648491   \n",
       "1.92                                       41.740482   \n",
       "\n",
       "          F0semitoneFrom27.5Hz_sma3nz_pctlrange0-2  \\\n",
       "time (s)                                             \n",
       "0.00                                      4.277535   \n",
       "0.48                                      3.523483   \n",
       "0.96                                      4.179401   \n",
       "1.44                                     23.933268   \n",
       "1.92                                      1.536160   \n",
       "\n",
       "          F0semitoneFrom27.5Hz_sma3nz_meanRisingSlope  \\\n",
       "time (s)                                                \n",
       "0.00                                       113.373398   \n",
       "0.48                                       190.686447   \n",
       "0.96                                       320.533661   \n",
       "1.44                                       347.030121   \n",
       "1.92                                        13.953377   \n",
       "\n",
       "          F0semitoneFrom27.5Hz_sma3nz_stddevRisingSlope  \\\n",
       "time (s)                                                  \n",
       "0.00                                          28.009075   \n",
       "0.48                                          93.175095   \n",
       "0.96                                         168.895844   \n",
       "1.44                                         243.559845   \n",
       "1.92                                           7.437013   \n",
       "\n",
       "          F0semitoneFrom27.5Hz_sma3nz_meanFallingSlope  \\\n",
       "time (s)                                                 \n",
       "0.00                                        -16.222733   \n",
       "0.48                                        112.389160   \n",
       "0.96                                        117.873878   \n",
       "1.44                                         51.579926   \n",
       "1.92                                         31.031654   \n",
       "\n",
       "          F0semitoneFrom27.5Hz_sma3nz_stddevFallingSlope  ...  \\\n",
       "time (s)                                                  ...   \n",
       "0.00                                          106.673019  ...   \n",
       "0.48                                           56.656677  ...   \n",
       "0.96                                           44.024380  ...   \n",
       "1.44                                           36.412964  ...   \n",
       "1.92                                            0.000000  ...   \n",
       "\n",
       "          slopeUV0-500_sma3nz_amean  slopeUV500-1500_sma3nz_amean  \\\n",
       "time (s)                                                            \n",
       "0.00                      -0.072074                     -0.016952   \n",
       "0.48                      -0.079065                     -0.015573   \n",
       "0.96                      -0.083970                     -0.004822   \n",
       "1.44                      -0.088274                     -0.002470   \n",
       "1.92                      -0.063376                      0.021280   \n",
       "\n",
       "          spectralFluxUV_sma3nz_amean  loudnessPeaksPerSec  \\\n",
       "time (s)                                                     \n",
       "0.00                         0.613909             5.208333   \n",
       "0.48                         0.813931             6.250000   \n",
       "0.96                         0.888226             8.333334   \n",
       "1.44                         0.935528             2.083333   \n",
       "1.92                         4.013304             5.208333   \n",
       "\n",
       "          VoicedSegmentsPerSec  MeanVoicedSegmentLengthSec  \\\n",
       "time (s)                                                     \n",
       "0.00                  4.166667                      0.0425   \n",
       "0.48                  4.166667                      0.0550   \n",
       "0.96                  5.208333                      0.0600   \n",
       "1.44                  2.083333                      0.3200   \n",
       "1.92                  2.083333                      0.4500   \n",
       "\n",
       "          StddevVoicedSegmentLengthSec  MeanUnvoicedSegmentLength  \\\n",
       "time (s)                                                            \n",
       "0.00                          0.022776                     0.1775   \n",
       "0.48                          0.025981                     0.1280   \n",
       "0.96                          0.031623                     0.1425   \n",
       "1.44                          0.210000                     0.1400   \n",
       "1.92                          0.180000                     0.0300   \n",
       "\n",
       "          StddevUnvoicedSegmentLength  equivalentSoundLevel_dBp  \n",
       "time (s)                                                         \n",
       "0.00                         0.117766                -26.653774  \n",
       "0.48                         0.091739                -24.583828  \n",
       "0.96                         0.056292                -23.906471  \n",
       "1.44                         0.060000                -13.505047  \n",
       "1.92                         0.000000                 -9.862471  \n",
       "\n",
       "[5 rows x 88 columns]"
      ]
     },
     "execution_count": 10,
     "metadata": {},
     "output_type": "execute_result"
    }
   ],
   "source": [
    "test_output = pd.read_hdf(output_paths[0])\n",
    "test_output.head()"
   ]
  },
  {
   "cell_type": "markdown",
   "id": "european-charge",
   "metadata": {},
   "source": [
    "## VGGish\n",
    "\n",
    "The VVGish feature embeddings use a fairly similar approach to YAMNET. While the feature are not calculated for this feature set, you can calculate them  yourself as follows or using the script \"__src/features/create_vvgish_features.py__\""
   ]
  },
  {
   "cell_type": "markdown",
   "id": "spread-ozone",
   "metadata": {},
   "source": [
    "setting up the environment and setting the output paths"
   ]
  },
  {
   "cell_type": "code",
   "execution_count": 11,
   "id": "impaired-blond",
   "metadata": {},
   "outputs": [
    {
     "name": "stdout",
     "output_type": "stream",
     "text": [
      "WARNING:tensorflow:From /home/mmars/.local/lib/python3.8/site-packages/tensorflow/python/compat/v2_compat.py:96: disable_resource_variables (from tensorflow.python.ops.variable_scope) is deprecated and will be removed in a future version.\n",
      "Instructions for updating:\n",
      "non-resource variables are not supported in the long term\n"
     ]
    }
   ],
   "source": [
    "from src.features.VGGishExtractor import VGGishExtractor"
   ]
  },
  {
   "cell_type": "code",
   "execution_count": 12,
   "id": "mounted-sharing",
   "metadata": {},
   "outputs": [],
   "source": [
    "preprocess_path = find_paths(subset, \"./notebooks/test_results/vvgish/preprocess/\", \".pkl\")\n",
    "embed_path = find_paths(subset, \"./notebooks/test_results/vvgish/embed/\", \".pkl\")\n",
    "postprocess_path = find_paths(subset, \"./notebooks/test_results/vvgish/postprocess/\", \".pkl\")"
   ]
  },
  {
   "cell_type": "code",
   "execution_count": 13,
   "id": "alone-brief",
   "metadata": {},
   "outputs": [],
   "source": [
    "ex = VGGishExtractor()"
   ]
  },
  {
   "cell_type": "markdown",
   "id": "sustained-secretary",
   "metadata": {},
   "source": [
    "### Pre-processing\n",
    "\n",
    "Turning raw audio features into logartihmic Mel spectrograms"
   ]
  },
  {
   "cell_type": "code",
   "execution_count": 14,
   "id": "missing-classification",
   "metadata": {},
   "outputs": [
    {
     "name": "stderr",
     "output_type": "stream",
     "text": [
      "100%|██████████| 2/2 [00:32<00:00, 16.34s/it]"
     ]
    }
   ],
   "source": [
    "ex.pre_processing(audio_paths, preprocess_path, num_workers=1)"
   ]
  },
  {
   "cell_type": "code",
   "execution_count": 15,
   "id": "foster-neighborhood",
   "metadata": {},
   "outputs": [
    {
     "data": {
      "text/plain": [
       "<matplotlib.image.AxesImage at 0x7fb2edc81c10>"
      ]
     },
     "execution_count": 15,
     "metadata": {},
     "output_type": "execute_result"
    },
    {
     "name": "stderr",
     "output_type": "stream",
     "text": [
      "100%|██████████| 2/2 [00:32<00:00, 16.47s/it]\n"
     ]
    },
    {
     "data": {
      "image/png": "[encoded data removed]",
      "text/plain": [
       "<Figure size 432x288 with 1 Axes>"
      ]
     },
     "metadata": {
      "needs_background": "light"
     },
     "output_type": "display_data"
    }
   ],
   "source": [
    "pre_processed = pickle.load(open(preprocess_path[0], \"rb\"))\n",
    "plt.imshow(pre_processed[0])"
   ]
  },
  {
   "cell_type": "markdown",
   "id": "worthy-chick",
   "metadata": {},
   "source": [
    "## Embedding\n",
    "\n",
    "Turning the logarithmic Mel spectorgrams into 128 values embedding vectors"
   ]
  },
  {
   "cell_type": "code",
   "execution_count": 16,
   "id": "ecological-absence",
   "metadata": {},
   "outputs": [
    {
     "name": "stderr",
     "output_type": "stream",
     "text": [
      "/home/mmars/.local/lib/python3.8/site-packages/tensorflow/python/keras/engine/base_layer_v1.py:1719: UserWarning: `layer.apply` is deprecated and will be removed in a future version. Please use `layer.__call__` method instead.\n",
      "  warnings.warn('`layer.apply` is deprecated and '\n",
      "/home/mmars/.local/lib/python3.8/site-packages/tensorflow/python/keras/legacy_tf_layers/core.py:329: UserWarning: `tf.layers.flatten` is deprecated and will be removed in a future version. Please use `tf.keras.layers.Flatten` instead.\n",
      "  warnings.warn('`tf.layers.flatten` is deprecated and '\n"
     ]
    },
    {
     "name": "stdout",
     "output_type": "stream",
     "text": [
      "INFO:tensorflow:Restoring parameters from ./data/vggish_model.ckpt\n"
     ]
    },
    {
     "name": "stderr",
     "output_type": "stream",
     "text": [
      "100%|██████████| 2/2 [01:18<00:00, 39.33s/it]\n"
     ]
    }
   ],
   "source": [
    "ex.embedding(preprocess_path, embed_path) # embedding is parallelised on the gpu so no num_workers"
   ]
  },
  {
   "cell_type": "code",
   "execution_count": 17,
   "id": "adolescent-cradle",
   "metadata": {},
   "outputs": [
    {
     "data": {
      "text/plain": [
       "<matplotlib.legend.Legend at 0x7fb2ec285460>"
      ]
     },
     "execution_count": 17,
     "metadata": {},
     "output_type": "execute_result"
    },
    {
     "data": {
      "image/png": "[encoded data removed]",
      "text/plain": [
       "<Figure size 432x288 with 1 Axes>"
      ]
     },
     "metadata": {
      "needs_background": "light"
     },
     "output_type": "display_data"
    }
   ],
   "source": [
    "embedding = pickle.load(open(embed_path[0], \"rb\"))\n",
    "plt.plot(embedding[0], 'x', label='embedding')\n",
    "plt.legend()"
   ]
  },
  {
   "cell_type": "markdown",
   "id": "assisted-andorra",
   "metadata": {},
   "source": [
    "### Post-processing\n",
    "\n",
    "Post processing the data using a PCA based on the YouTube 8M dataset"
   ]
  },
  {
   "cell_type": "code",
   "execution_count": 18,
   "id": "modified-finger",
   "metadata": {},
   "outputs": [
    {
     "name": "stderr",
     "output_type": "stream",
     "text": [
      " 50%|█████     | 1/2 [00:00<00:00,  8.01it/s]"
     ]
    }
   ],
   "source": [
    "ex.post_processing(embed_path, postprocess_path, num_workers=1)"
   ]
  },
  {
   "cell_type": "code",
   "execution_count": 19,
   "id": "domestic-three",
   "metadata": {},
   "outputs": [
    {
     "name": "stderr",
     "output_type": "stream",
     "text": [
      "100%|██████████| 2/2 [00:00<00:00,  7.38it/s]\n"
     ]
    },
    {
     "data": {
      "text/plain": [
       "<matplotlib.legend.Legend at 0x7fb2ec2d6be0>"
      ]
     },
     "execution_count": 19,
     "metadata": {},
     "output_type": "execute_result"
    },
    {
     "data": {
      "image/png": "[encoded data removed]",
      "text/plain": [
       "<Figure size 432x288 with 1 Axes>"
      ]
     },
     "metadata": {
      "needs_background": "light"
     },
     "output_type": "display_data"
    }
   ],
   "source": [
    "post_processed = pickle.load(open(postprocess_path[0], \"rb\"))\n",
    "plt.plot(post_processed[0], 'x', label='post_processed 2')\n",
    "plt.legend()"
   ]
  },
  {
   "cell_type": "markdown",
   "id": "grand-beauty",
   "metadata": {},
   "source": [
    "## YAMNet\n",
    "\n",
    "The YAMNET features can be extracted using the code below or using the code from \"__src/features/create_yamnet_features.py__\".\n",
    "\n",
    "Note that VGGish uses TF-1.x and YAMNET uses TF-2.x so they cannot be used in the same script (using the same tensorflow import)"
   ]
  },
  {
   "cell_type": "code",
   "execution_count": 6,
   "id": "honey-accordance",
   "metadata": {},
   "outputs": [],
   "source": [
    "from src.features.YAMNetExtractor import YAMNetExtractor"
   ]
  },
  {
   "cell_type": "code",
   "execution_count": 7,
   "id": "radical-timer",
   "metadata": {},
   "outputs": [],
   "source": [
    "embed_paths = find_paths(subset, \"./notebooks/test_results/yamnet/embed\", \".h5\")\n",
    "output_paths = find_paths(subset, \"./notebooks/test_results/yamnet/scores\", \".h5\")"
   ]
  },
  {
   "cell_type": "code",
   "execution_count": 8,
   "id": "removed-glenn",
   "metadata": {},
   "outputs": [],
   "source": [
    "ex = YAMNetExtractor()"
   ]
  },
  {
   "cell_type": "code",
   "execution_count": 9,
   "id": "affiliated-acrylic",
   "metadata": {},
   "outputs": [
    {
     "name": "stderr",
     "output_type": "stream",
     "text": [
      "  0%|          | 0/2 [00:00<?, ?it/s]/home/mmars/.local/lib/python3.8/site-packages/pandas/io/pytables.py:280: PerformanceWarning: \n",
      "your performance may suffer as PyTables will pickle object types that it cannot\n",
      "map directly to c-types [inferred_type->integer,key->axis0] [items->None]\n",
      "\n",
      "  f(store)\n",
      "/home/mmars/.local/lib/python3.8/site-packages/pandas/io/pytables.py:280: PerformanceWarning: \n",
      "your performance may suffer as PyTables will pickle object types that it cannot\n",
      "map directly to c-types [inferred_type->integer,key->block0_items] [items->None]\n",
      "\n",
      "  f(store)\n",
      "100%|██████████| 2/2 [00:27<00:00, 13.66s/it]\n"
     ]
    }
   ],
   "source": [
    "ex.embedding(audio_paths, output_paths, embed_paths) # also save embeddings"
   ]
  },
  {
   "cell_type": "code",
   "execution_count": 10,
   "id": "certain-domain",
   "metadata": {},
   "outputs": [],
   "source": [
    "yamnet_embedding = pd.read_hdf(embed_paths[0])\n",
    "yamnet_scores = pd.read_hdf(output_paths[0])"
   ]
  },
  {
   "cell_type": "code",
   "execution_count": 11,
   "id": "corrected-fishing",
   "metadata": {},
   "outputs": [
    {
     "data": {
      "text/plain": [
       "Text(0.5, 1.0, '1024 embedding vector')"
      ]
     },
     "execution_count": 11,
     "metadata": {},
     "output_type": "execute_result"
    },
    {
     "data": {
      "image/png": "[encoded data removed]",
      "text/plain": [
       "<Figure size 432x288 with 1 Axes>"
      ]
     },
     "metadata": {
      "needs_background": "light"
     },
     "output_type": "display_data"
    }
   ],
   "source": [
    "plt.plot(yamnet_embedding[0])\n",
    "plt.title(\"1024 embedding vector\")"
   ]
  },
  {
   "cell_type": "code",
   "execution_count": 14,
   "id": "bibliographic-glossary",
   "metadata": {},
   "outputs": [
    {
     "data": {
      "text/plain": [
       "Text(0.5, 1.0, '521 score vector')"
      ]
     },
     "execution_count": 14,
     "metadata": {},
     "output_type": "execute_result"
    },
    {
     "data": {
      "image/png": "[encoded data removed]",
      "text/plain": [
       "<Figure size 432x288 with 1 Axes>"
      ]
     },
     "metadata": {
      "needs_background": "light"
     },
     "output_type": "display_data"
    }
   ],
   "source": [
    "plt.plot(yamnet_scores[\"Laughter\"])\n",
    "plt.title(\"521 score vector\")"
   ]
  },
  {
   "cell_type": "code",
   "execution_count": null,
   "id": "indian-employer",
   "metadata": {},
   "outputs": [],
   "source": []
  }
 ],
 "metadata": {
  "kernelspec": {
   "display_name": "Python 3",
   "language": "python",
   "name": "python3"
  },
  "language_info": {
   "codemirror_mode": {
    "name": "ipython",
    "version": 3
   },
   "file_extension": ".py",
   "mimetype": "text/x-python",
   "name": "python",
   "nbconvert_exporter": "python",
   "pygments_lexer": "ipython3",
   "version": "3.8.6"
  }
 },
 "nbformat": 4,
 "nbformat_minor": 5
}
