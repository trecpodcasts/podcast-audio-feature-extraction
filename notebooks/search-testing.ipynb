{
 "cells": [
  {
   "cell_type": "markdown",
   "id": "editorial-tomato",
   "metadata": {},
   "source": [
    "# Search Testing"
   ]
  },
  {
   "cell_type": "code",
   "execution_count": 1,
   "id": "statistical-minutes",
   "metadata": {},
   "outputs": [],
   "source": [
    "# Want to be able to reload changed modules on the fly\n",
    "%load_ext autoreload\n",
    "%autoreload 2"
   ]
  },
  {
   "cell_type": "code",
   "execution_count": 2,
   "id": "bacterial-squad",
   "metadata": {},
   "outputs": [
    {
     "name": "stdout",
     "output_type": "stream",
     "text": [
      "4 actual GPUs, 1 in use.\n"
     ]
    }
   ],
   "source": [
    "import os\n",
    "\n",
    "import pandas as pd\n",
    "import matplotlib.pyplot as plt\n",
    "import numpy as np\n",
    "from IPython.display import Audio\n",
    "\n",
    "import src.search\n",
    "from src.data import load_metadata, find_paths\n",
    "\n",
    "import src.utils\n",
    "src.utils.gpu_setup()"
   ]
  },
  {
   "cell_type": "markdown",
   "id": "civilian-grocery",
   "metadata": {},
   "source": [
    "## 1) Set up the searcher"
   ]
  },
  {
   "cell_type": "code",
   "execution_count": 3,
   "id": "partial-hypothetical",
   "metadata": {},
   "outputs": [
    {
     "name": "stdout",
     "output_type": "stream",
     "text": [
      "CPU times: user 9.1 s, sys: 735 ms, total: 9.83 s\n",
      "Wall time: 12 s\n"
     ]
    }
   ],
   "source": [
    "%%time\n",
    "# Set up the searcher\n",
    "searcher = src.search.Searcher(\"../config.yaml\")"
   ]
  },
  {
   "cell_type": "markdown",
   "id": "blond-huntington",
   "metadata": {},
   "source": [
    "## 2) Define the queries to test"
   ]
  },
  {
   "cell_type": "code",
   "execution_count": 4,
   "id": "musical-strain",
   "metadata": {},
   "outputs": [],
   "source": [
    "# Setup the queries to test on...\n",
    "queries = [\n",
    "    {\"title\": \"trump call ukrainian\", \"desc\": \"The White House released a rough transcript of President Donald Trump’s phone call with the Ukrainian President in November 2019. What were people saying about the conversation in the call? News items about the call are relevant.\"},\n",
    "    {\"title\": \"near death experiences\", \"desc\": \"I wonder if people have shared near-death experiences in podcast episodes.  I would like to find and listen to some stories.  I am not interested in the science of near-death experiences.\"},\n",
    "    {\"title\": \"black lives matter\", \"desc\": \"What do people mean when they say “black lives matter”?  I am interested in personal reflections that give context to the phrase “black lives matter” and why it is important to individuals.  News stores about Black Lives Matter protests are relevant as well.\"},\n",
    "    {\"title\": \"halloween stories and chat\", \"desc\": \"I love Halloween and I want to hear stories and conversations about things people have done to celebrate it.  I am not looking for information about the history of Halloween or generalities about how it is celebrated, I want specific stories from individuals.\"},\n",
    "    {\"title\": \"workplace diversity\", \"desc\": \"What are things companies are doing and could do to promote diversity in the workplace?  Things like workplace programs, initiatives, education, and outreach are relevant.  Discussion about the outcomes of these efforts are relevant as well.\"},\n",
    "]"
   ]
  },
  {
   "cell_type": "markdown",
   "id": "spatial-situation",
   "metadata": {},
   "source": [
    "## 3) Run a query and explore the output"
   ]
  },
  {
   "cell_type": "code",
   "execution_count": 5,
   "id": "assigned-coverage",
   "metadata": {},
   "outputs": [
    {
     "name": "stdout",
     "output_type": "stream",
     "text": [
      "Running Elasticsearch query... returned 100 segments in 0.36 seconds\n",
      "Getting rerank scores for segments... returned 100 scores in 20.59 seconds\n",
      "Getting audio scores for 74 segments... \n"
     ]
    },
    {
     "name": "stderr",
     "output_type": "stream",
     "text": [
      "100%|██████████| 74/74 [13:17<00:00, 10.77s/it]\n",
      "/unix/cdtdisspotify/jtingey/podcast-dataset/src/search/features.py:26: RuntimeWarning: divide by zero encountered in power\n",
      "  return beta**alpha/gamma(alpha) * x.T**(alpha-1) * np.exp(-beta*x.T)\n",
      "/unix/cdtdisspotify/jtingey/podcast-dataset/src/search/features.py:31: RuntimeWarning: invalid value encountered in true_divide\n",
      "  return (p/np.sum(p,axis=0)).T\n",
      "/unix/cdtdisspotify/jtingey/podcast-dataset/src/search/features.py:46: RuntimeWarning: invalid value encountered in true_divide\n",
      "  return (p/np.sum(p,axis=0)).T\n"
     ]
    }
   ],
   "source": [
    "query_num = 1\n",
    "search_df = searcher.search(queries[query_num][\"title\"], queries[query_num][\"desc\"])"
   ]
  },
  {
   "cell_type": "code",
   "execution_count": 6,
   "id": "toxic-tuesday",
   "metadata": {},
   "outputs": [
    {
     "data": {
      "image/png": "[encoded data removed]",
      "text/plain": [
       "<Figure size 432x288 with 1 Axes>"
      ]
     },
     "metadata": {
      "needs_background": "light"
     },
     "output_type": "display_data"
    }
   ],
   "source": [
    "# SHOULD MAKE DISTRIBUTION PLOTS FOR THE FEATURES FROM LOTS OF PODCASTS!\n",
    "plt.hist(search_df[\"opensmile_disapproval\"])\n",
    "plt.show()"
   ]
  },
  {
   "cell_type": "code",
   "execution_count": 7,
   "id": "defensive-triumph",
   "metadata": {},
   "outputs": [
    {
     "data": {
      "text/html": [
       "<div>\n",
       "<style scoped>\n",
       "    .dataframe tbody tr th:only-of-type {\n",
       "        vertical-align: middle;\n",
       "    }\n",
       "\n",
       "    .dataframe tbody tr th {\n",
       "        vertical-align: top;\n",
       "    }\n",
       "\n",
       "    .dataframe thead th {\n",
       "        text-align: right;\n",
       "    }\n",
       "</style>\n",
       "<table border=\"1\" class=\"dataframe\">\n",
       "  <thead>\n",
       "    <tr style=\"text-align: right;\">\n",
       "      <th></th>\n",
       "      <th>show_name</th>\n",
       "      <th>epis_name</th>\n",
       "      <th>seg_speakers</th>\n",
       "      <th>es_score</th>\n",
       "      <th>rerank_score</th>\n",
       "      <th>laughter_freq</th>\n",
       "      <th>music_freq</th>\n",
       "      <th>conversation_freq</th>\n",
       "      <th>narration_freq</th>\n",
       "      <th>yamnet_funny</th>\n",
       "      <th>yamnet_conversation</th>\n",
       "      <th>opensmile_debate</th>\n",
       "      <th>opensmile_disapproval</th>\n",
       "    </tr>\n",
       "  </thead>\n",
       "  <tbody>\n",
       "    <tr>\n",
       "      <th>0</th>\n",
       "      <td>The Death Dialogues Project Podcast</td>\n",
       "      <td>31. Tricia Barker shares her Near Death Experi...</td>\n",
       "      <td>1</td>\n",
       "      <td>139.722240</td>\n",
       "      <td>3.793441</td>\n",
       "      <td>0</td>\n",
       "      <td>79</td>\n",
       "      <td>0</td>\n",
       "      <td>8</td>\n",
       "      <td>0.000000</td>\n",
       "      <td>2.491007e-02</td>\n",
       "      <td>17.403510</td>\n",
       "      <td>4.214363</td>\n",
       "    </tr>\n",
       "    <tr>\n",
       "      <th>1</th>\n",
       "      <td>A Private Service Announcement</td>\n",
       "      <td>Do it for the ‘Gram (I nearly died) // PSA 003...</td>\n",
       "      <td>2</td>\n",
       "      <td>137.614720</td>\n",
       "      <td>3.856227</td>\n",
       "      <td>0</td>\n",
       "      <td>88</td>\n",
       "      <td>0</td>\n",
       "      <td>62</td>\n",
       "      <td>0.000000</td>\n",
       "      <td>7.639865e-01</td>\n",
       "      <td>11.707335</td>\n",
       "      <td>3.318950</td>\n",
       "    </tr>\n",
       "    <tr>\n",
       "      <th>2</th>\n",
       "      <td>Matt D’Elia Is Confused</td>\n",
       "      <td>Dr. Eben Alexander | The Near Death Experience</td>\n",
       "      <td>1</td>\n",
       "      <td>132.199190</td>\n",
       "      <td>3.470416</td>\n",
       "      <td>0</td>\n",
       "      <td>7</td>\n",
       "      <td>2</td>\n",
       "      <td>96</td>\n",
       "      <td>0.000000</td>\n",
       "      <td>7.639865e-01</td>\n",
       "      <td>29.136465</td>\n",
       "      <td>4.218578</td>\n",
       "    </tr>\n",
       "    <tr>\n",
       "      <th>3</th>\n",
       "      <td>Matt D’Elia Is Confused</td>\n",
       "      <td>Dr. Eben Alexander | The Near Death Experience</td>\n",
       "      <td>1</td>\n",
       "      <td>129.997330</td>\n",
       "      <td>3.536778</td>\n",
       "      <td>0</td>\n",
       "      <td>0</td>\n",
       "      <td>1</td>\n",
       "      <td>102</td>\n",
       "      <td>0.000000</td>\n",
       "      <td>7.639865e-01</td>\n",
       "      <td>28.057964</td>\n",
       "      <td>4.242487</td>\n",
       "    </tr>\n",
       "    <tr>\n",
       "      <th>4</th>\n",
       "      <td>The Death Dialogues Project Podcast</td>\n",
       "      <td>31. Tricia Barker shares her Near Death Experi...</td>\n",
       "      <td>2</td>\n",
       "      <td>129.844330</td>\n",
       "      <td>3.092210</td>\n",
       "      <td>1</td>\n",
       "      <td>0</td>\n",
       "      <td>5</td>\n",
       "      <td>94</td>\n",
       "      <td>0.000000</td>\n",
       "      <td>2.491007e-02</td>\n",
       "      <td>19.999614</td>\n",
       "      <td>4.467983</td>\n",
       "    </tr>\n",
       "    <tr>\n",
       "      <th>...</th>\n",
       "      <td>...</td>\n",
       "      <td>...</td>\n",
       "      <td>...</td>\n",
       "      <td>...</td>\n",
       "      <td>...</td>\n",
       "      <td>...</td>\n",
       "      <td>...</td>\n",
       "      <td>...</td>\n",
       "      <td>...</td>\n",
       "      <td>...</td>\n",
       "      <td>...</td>\n",
       "      <td>...</td>\n",
       "      <td>...</td>\n",
       "    </tr>\n",
       "    <tr>\n",
       "      <th>69</th>\n",
       "      <td>Bigfoot Collectors Club</td>\n",
       "      <td>BCC 60 - “The Grafton Monster” w/ Jack Plotnick!</td>\n",
       "      <td>3</td>\n",
       "      <td>96.479010</td>\n",
       "      <td>2.582076</td>\n",
       "      <td>0</td>\n",
       "      <td>1</td>\n",
       "      <td>0</td>\n",
       "      <td>44</td>\n",
       "      <td>0.000000</td>\n",
       "      <td>7.639865e-01</td>\n",
       "      <td>19.150416</td>\n",
       "      <td>3.587250</td>\n",
       "    </tr>\n",
       "    <tr>\n",
       "      <th>70</th>\n",
       "      <td>Bigfoot Collectors Club</td>\n",
       "      <td>BCC 60 - “The Grafton Monster” w/ Jack Plotnick!</td>\n",
       "      <td>3</td>\n",
       "      <td>96.445750</td>\n",
       "      <td>2.977291</td>\n",
       "      <td>1</td>\n",
       "      <td>2</td>\n",
       "      <td>1</td>\n",
       "      <td>59</td>\n",
       "      <td>0.000000</td>\n",
       "      <td>7.639865e-01</td>\n",
       "      <td>18.114733</td>\n",
       "      <td>3.512196</td>\n",
       "    </tr>\n",
       "    <tr>\n",
       "      <th>71</th>\n",
       "      <td>Project Mindfulness Podcast</td>\n",
       "      <td>Train your Brain for Happiness with Dana Wilde</td>\n",
       "      <td>2</td>\n",
       "      <td>96.425280</td>\n",
       "      <td>2.522410</td>\n",
       "      <td>0</td>\n",
       "      <td>57</td>\n",
       "      <td>4</td>\n",
       "      <td>88</td>\n",
       "      <td>0.000000</td>\n",
       "      <td>1.350191e-04</td>\n",
       "      <td>12.256869</td>\n",
       "      <td>3.588428</td>\n",
       "    </tr>\n",
       "    <tr>\n",
       "      <th>72</th>\n",
       "      <td>The Death Dialogues Project Podcast</td>\n",
       "      <td>31. Tricia Barker shares her Near Death Experi...</td>\n",
       "      <td>2</td>\n",
       "      <td>96.401400</td>\n",
       "      <td>2.840199</td>\n",
       "      <td>1</td>\n",
       "      <td>0</td>\n",
       "      <td>4</td>\n",
       "      <td>85</td>\n",
       "      <td>0.597695</td>\n",
       "      <td>2.500095e-16</td>\n",
       "      <td>16.506109</td>\n",
       "      <td>4.350810</td>\n",
       "    </tr>\n",
       "    <tr>\n",
       "      <th>73</th>\n",
       "      <td>Izkapop</td>\n",
       "      <td>#1 - How Hello Kitty Ruined Izzy's Life</td>\n",
       "      <td>3</td>\n",
       "      <td>96.321754</td>\n",
       "      <td>1.989297</td>\n",
       "      <td>0</td>\n",
       "      <td>0</td>\n",
       "      <td>16</td>\n",
       "      <td>88</td>\n",
       "      <td>0.000000</td>\n",
       "      <td>1.328068e-108</td>\n",
       "      <td>6.047128</td>\n",
       "      <td>4.013673</td>\n",
       "    </tr>\n",
       "  </tbody>\n",
       "</table>\n",
       "<p>74 rows × 13 columns</p>\n",
       "</div>"
      ],
      "text/plain": [
       "                              show_name  \\\n",
       "0   The Death Dialogues Project Podcast   \n",
       "1        A Private Service Announcement   \n",
       "2               Matt D’Elia Is Confused   \n",
       "3               Matt D’Elia Is Confused   \n",
       "4   The Death Dialogues Project Podcast   \n",
       "..                                  ...   \n",
       "69              Bigfoot Collectors Club   \n",
       "70              Bigfoot Collectors Club   \n",
       "71         Project Mindfulness Podcast    \n",
       "72  The Death Dialogues Project Podcast   \n",
       "73                              Izkapop   \n",
       "\n",
       "                                            epis_name  seg_speakers  \\\n",
       "0   31. Tricia Barker shares her Near Death Experi...             1   \n",
       "1   Do it for the ‘Gram (I nearly died) // PSA 003...             2   \n",
       "2      Dr. Eben Alexander | The Near Death Experience             1   \n",
       "3      Dr. Eben Alexander | The Near Death Experience             1   \n",
       "4   31. Tricia Barker shares her Near Death Experi...             2   \n",
       "..                                                ...           ...   \n",
       "69   BCC 60 - “The Grafton Monster” w/ Jack Plotnick!             3   \n",
       "70   BCC 60 - “The Grafton Monster” w/ Jack Plotnick!             3   \n",
       "71     Train your Brain for Happiness with Dana Wilde             2   \n",
       "72  31. Tricia Barker shares her Near Death Experi...             2   \n",
       "73            #1 - How Hello Kitty Ruined Izzy's Life             3   \n",
       "\n",
       "      es_score  rerank_score  laughter_freq  music_freq  conversation_freq  \\\n",
       "0   139.722240      3.793441              0          79                  0   \n",
       "1   137.614720      3.856227              0          88                  0   \n",
       "2   132.199190      3.470416              0           7                  2   \n",
       "3   129.997330      3.536778              0           0                  1   \n",
       "4   129.844330      3.092210              1           0                  5   \n",
       "..         ...           ...            ...         ...                ...   \n",
       "69   96.479010      2.582076              0           1                  0   \n",
       "70   96.445750      2.977291              1           2                  1   \n",
       "71   96.425280      2.522410              0          57                  4   \n",
       "72   96.401400      2.840199              1           0                  4   \n",
       "73   96.321754      1.989297              0           0                 16   \n",
       "\n",
       "    narration_freq  yamnet_funny  yamnet_conversation  opensmile_debate  \\\n",
       "0                8      0.000000         2.491007e-02         17.403510   \n",
       "1               62      0.000000         7.639865e-01         11.707335   \n",
       "2               96      0.000000         7.639865e-01         29.136465   \n",
       "3              102      0.000000         7.639865e-01         28.057964   \n",
       "4               94      0.000000         2.491007e-02         19.999614   \n",
       "..             ...           ...                  ...               ...   \n",
       "69              44      0.000000         7.639865e-01         19.150416   \n",
       "70              59      0.000000         7.639865e-01         18.114733   \n",
       "71              88      0.000000         1.350191e-04         12.256869   \n",
       "72              85      0.597695         2.500095e-16         16.506109   \n",
       "73              88      0.000000        1.328068e-108          6.047128   \n",
       "\n",
       "    opensmile_disapproval  \n",
       "0                4.214363  \n",
       "1                3.318950  \n",
       "2                4.218578  \n",
       "3                4.242487  \n",
       "4                4.467983  \n",
       "..                    ...  \n",
       "69               3.587250  \n",
       "70               3.512196  \n",
       "71               3.588428  \n",
       "72               4.350810  \n",
       "73               4.013673  \n",
       "\n",
       "[74 rows x 13 columns]"
      ]
     },
     "execution_count": 7,
     "metadata": {},
     "output_type": "execute_result"
    }
   ],
   "source": [
    "search_df[['show_name', 'epis_name', 'seg_speakers', 'es_score', 'rerank_score', 'laughter_freq', 'music_freq', 'conversation_freq', 'narration_freq', 'yamnet_funny', 'yamnet_conversation', 'opensmile_debate', 'opensmile_disapproval']]"
   ]
  },
  {
   "cell_type": "code",
   "execution_count": 8,
   "id": "herbal-firewall",
   "metadata": {},
   "outputs": [],
   "source": [
    "topical_ids = searcher.rerank_topical(search_df)\n",
    "entertaining_ids = searcher.rerank_entertaining(search_df)\n",
    "subjective_ids = searcher.rerank_subjective(search_df)\n",
    "discussion_ids = searcher.rerank_discussion(search_df)"
   ]
  },
  {
   "cell_type": "code",
   "execution_count": null,
   "id": "atmospheric-temperature",
   "metadata": {},
   "outputs": [],
   "source": [
    "# First highest topical score\n",
    "print(topical_ids[0])\n",
    "waveform = searcher.get_segment_audio(topical_ids[0])\n",
    "Audio(waveform, rate=44100)"
   ]
  },
  {
   "cell_type": "code",
   "execution_count": null,
   "id": "solar-cardiff",
   "metadata": {},
   "outputs": [],
   "source": [
    "# Second highest topical score\n",
    "print(topical_ids[1])\n",
    "waveform = searcher.get_segment_audio(topical_ids[1])\n",
    "Audio(waveform, rate=44100)"
   ]
  },
  {
   "cell_type": "code",
   "execution_count": null,
   "id": "occupational-ocean",
   "metadata": {},
   "outputs": [],
   "source": [
    "# First highest entertaining score\n",
    "print(entertaining_ids[0])\n",
    "waveform = searcher.get_segment_audio(entertaining_ids[0])\n",
    "Audio(waveform, rate=44100)"
   ]
  },
  {
   "cell_type": "code",
   "execution_count": null,
   "id": "approximate-payroll",
   "metadata": {},
   "outputs": [],
   "source": [
    "# Second highest entertaining score\n",
    "print(entertaining_ids[1])\n",
    "waveform = searcher.get_segment_audio(entertaining_ids[1])\n",
    "Audio(waveform, rate=44100)"
   ]
  },
  {
   "cell_type": "code",
   "execution_count": null,
   "id": "vocational-stability",
   "metadata": {},
   "outputs": [],
   "source": [
    "# First highest subjective score\n",
    "print(subjective_ids[0])\n",
    "waveform = searcher.get_segment_audio(subjective_ids[0])\n",
    "Audio(waveform, rate=44100)"
   ]
  },
  {
   "cell_type": "code",
   "execution_count": null,
   "id": "continued-directory",
   "metadata": {},
   "outputs": [],
   "source": [
    "# Second highest subjective score\n",
    "print(subjective_ids[1])\n",
    "waveform = searcher.get_segment_audio(subjective_ids[1])\n",
    "Audio(waveform, rate=44100)"
   ]
  },
  {
   "cell_type": "code",
   "execution_count": null,
   "id": "healthy-guyana",
   "metadata": {},
   "outputs": [],
   "source": [
    "# First highest discussion score\n",
    "print(discussion_ids[0])\n",
    "waveform = searcher.get_segment_audio(discussion_ids[0])\n",
    "Audio(waveform, rate=44100)"
   ]
  },
  {
   "cell_type": "code",
   "execution_count": null,
   "id": "suffering-parallel",
   "metadata": {},
   "outputs": [],
   "source": [
    "# Second highest discussion score\n",
    "print(discussion_ids[1])\n",
    "waveform = searcher.get_segment_audio(discussion_ids[1])\n",
    "Audio(waveform, rate=44100)"
   ]
  },
  {
   "cell_type": "code",
   "execution_count": null,
   "id": "restricted-edinburgh",
   "metadata": {},
   "outputs": [],
   "source": []
  }
 ],
 "metadata": {
  "kernelspec": {
   "display_name": "Python 3",
   "language": "python",
   "name": "python3"
  },
  "language_info": {
   "codemirror_mode": {
    "name": "ipython",
    "version": 3
   },
   "file_extension": ".py",
   "mimetype": "text/x-python",
   "name": "python",
   "nbconvert_exporter": "python",
   "pygments_lexer": "ipython3",
   "version": "3.8.6"
  }
 },
 "nbformat": 4,
 "nbformat_minor": 5
}
