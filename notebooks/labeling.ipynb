{
 "cells": [
  {
   "cell_type": "markdown",
<<<<<<< Updated upstream
   "id": "connected-newport",
=======
   "id": "secondary-startup",
>>>>>>> Stashed changes
   "metadata": {},
   "source": [
    "# Setup"
   ]
  },
  {
   "cell_type": "code",
<<<<<<< Updated upstream
   "execution_count": null,
   "id": "foreign-overall",
=======
   "execution_count": 1,
   "id": "industrial-customer",
>>>>>>> Stashed changes
   "metadata": {},
   "outputs": [],
   "source": [
    "import os\n",
    "import numpy as np\n",
    "import pandas as pd\n",
    "import soundfile as sf"
   ]
  },
  {
   "cell_type": "code",
<<<<<<< Updated upstream
   "execution_count": null,
   "id": "prostate-deployment",
=======
   "execution_count": 2,
   "id": "sexual-coupon",
>>>>>>> Stashed changes
   "metadata": {},
   "outputs": [],
   "source": [
    "from src.data import load_metadata, find_paths\n",
    "from omegaconf import OmegaConf\n",
    "from IPython.display import Audio\n",
    "    \n",
    "\n",
    "conf = OmegaConf.load(\"../config.yaml\")\n",
    "DATA_AUDIO = os.path.join(conf.dataset_path, \"podcasts-audio\")"
   ]
  },
  {
   "cell_type": "code",
<<<<<<< Updated upstream
   "execution_count": null,
   "id": "flexible-board",
=======
   "execution_count": 3,
   "id": "peaceful-benchmark",
>>>>>>> Stashed changes
   "metadata": {},
   "outputs": [],
   "source": [
    "import warnings\n",
    "warnings.filterwarnings('ignore')\n",
    "\n",
    "done = False"
   ]
  },
  {
   "cell_type": "code",
<<<<<<< Updated upstream
   "execution_count": null,
   "id": "third-attendance",
=======
   "execution_count": 4,
   "id": "innocent-tobacco",
>>>>>>> Stashed changes
   "metadata": {},
   "outputs": [],
   "source": [
    "uri_file = \"blm.txt\" # TODO maybe you need to change this"
   ]
  },
  {
   "cell_type": "code",
<<<<<<< Updated upstream
   "execution_count": null,
   "id": "human-number",
=======
   "execution_count": 5,
   "id": "bigger-heater",
>>>>>>> Stashed changes
   "metadata": {},
   "outputs": [],
   "source": [
    "# loading metadata\n",
    "metadata = load_metadata(conf.dataset_path)"
   ]
  },
  {
   "cell_type": "code",
<<<<<<< Updated upstream
   "execution_count": null,
   "id": "german-programmer",
=======
   "execution_count": 6,
   "id": "painted-thong",
>>>>>>> Stashed changes
   "metadata": {},
   "outputs": [],
   "source": [
    "def audio_snippet(uri, starttime, metadata, duration=120):\n",
    "    episode = metadata[(metadata.episode_uri == uri).values]\n",
    "    audio_file = find_paths(episode, DATA_AUDIO, \".ogg\")\n",
    "    snippet, sr = sf.read(audio_file[0], start=starttime*44100, stop=(starttime+duration)*44100, dtype=np.int16)\n",
    "    return snippet, sr"
   ]
  },
  {
   "cell_type": "code",
   "execution_count": null,
   "id": "awful-exploration",
   "metadata": {},
   "outputs": [],
   "source": [
    "try:\n",
    "    df = pd.read_csv(f\"uri_set_labeled_blm.csv\")\n",
    "    df.set_index(\"Unnamed: 0\", inplace=True)\n",
    "except:\n",
    "    print(\"saved file doesn't exist yet\")\n",
    "    segments = np.array([i.split('_') for i in  np.loadtxt(uri_file, dtype=str) ] )\n",
    "    df = pd.DataFrame(segments, columns=['uri', 'timestamp'])\n",
    "    df['uri'] = \"spotify:episode:\" + df['uri']\n",
    "    df[\"entertaining\"] = np.ones(len(df)) * -99\n",
    "    df[\"discussion\"] = np.ones(len(df)) * -99\n",
    "    df[\"subjective\"] = np.ones(len(df)) * -99"
   ]
  },
  {
   "cell_type": "code",
   "execution_count": null,
   "id": "particular-mouth",
   "metadata": {},
   "outputs": [],
   "source": [
    "# finding where you left off:\n",
    "for i in range(len(df)):\n",
    "    if df.entertaining.iloc[i] == -99:\n",
    "        break"
   ]
  },
  {
   "cell_type": "code",
   "execution_count": null,
   "id": "reserved-active",
   "metadata": {},
   "outputs": [],
   "source": [
    "print(i)"
   ]
  },
  {
   "cell_type": "markdown",
<<<<<<< Updated upstream
   "id": "palestinian-wesley",
=======
   "id": "motivated-distance",
>>>>>>> Stashed changes
   "metadata": {},
   "source": [
    "# Select Topic"
   ]
  },
  {
   "cell_type": "code",
<<<<<<< Updated upstream
   "execution_count": null,
   "id": "desperate-smoke",
=======
   "execution_count": 7,
   "id": "asian-gather",
>>>>>>> Stashed changes
   "metadata": {},
   "outputs": [],
   "source": [
    "topic = 34"
   ]
  },
  {
   "cell_type": "code",
<<<<<<< Updated upstream
   "execution_count": null,
   "id": "concerned-brooks",
=======
   "execution_count": 8,
   "id": "revolutionary-bennett",
>>>>>>> Stashed changes
   "metadata": {},
   "outputs": [],
   "source": [
    "subset = qrels.iloc[ (qrels[\"query\"] == topic).values]"
   ]
  },
  {
   "cell_type": "code",
<<<<<<< Updated upstream
   "execution_count": null,
   "id": "governmental-shelf",
=======
   "execution_count": 9,
   "id": "individual-curve",
>>>>>>> Stashed changes
   "metadata": {},
   "outputs": [],
   "source": [
    "df = pd.DataFrame(columns=subset.columns)\n",
    "for i in range(5):\n",
    "    relevant = subset[subset.relevance == i]\n",
    "    order = np.random.permutation(len(relevant))\n",
    "    df = df.append(relevant.iloc[order].iloc[:5])\n",
    "df[\"entertaining\"] = np.ones(len(df)) * -99\n",
    "df[\"discussion\"] = np.ones(len(df)) * -99\n",
    "df[\"subjective\"] = np.ones(len(df)) * -99\n",
    "df = df.sample(frac=1, random_state=42)"
   ]
  },
  {
   "cell_type": "code",
<<<<<<< Updated upstream
   "execution_count": null,
   "id": "architectural-paragraph",
=======
   "execution_count": 10,
   "id": "respected-namibia",
>>>>>>> Stashed changes
   "metadata": {},
   "outputs": [
    {
     "name": "stdout",
     "output_type": "stream",
     "text": [
      "There are  253 episodes with relevancy 0\n",
      "There are    2 episodes with relevancy 1\n",
      "There are    8 episodes with relevancy 2\n",
      "There are    5 episodes with relevancy 3\n",
      "There are    5 episodes with relevancy 4\n"
     ]
    }
   ],
   "source": [
    "for i in range(5):\n",
    "    print(f\"There are {sum(subset.relevance == i):>4} episodes with relevancy {i}\")"
   ]
  },
  {
   "cell_type": "code",
<<<<<<< Updated upstream
   "execution_count": null,
   "id": "meaning-jenny",
=======
   "execution_count": 11,
   "id": "considerable-prague",
>>>>>>> Stashed changes
   "metadata": {},
   "outputs": [],
   "source": [
    "i = 0"
   ]
  },
  {
   "cell_type": "markdown",
<<<<<<< Updated upstream
   "id": "magnetic-negative",
=======
   "id": "compact-filename",
>>>>>>> Stashed changes
   "metadata": {},
   "source": [
    "# Loop this"
   ]
  },
  {
   "cell_type": "code",
<<<<<<< Updated upstream
   "execution_count": null,
   "id": "compatible-nothing",
=======
   "execution_count": 142,
   "id": "compressed-enlargement",
>>>>>>> Stashed changes
   "metadata": {},
   "outputs": [
    {
     "name": "stdout",
     "output_type": "stream",
     "text": [
      "Show name: \n",
      "\t A Girl and Her Mother-In-Law\n",
      "Show description: \n",
      "\t Allisa and Geri are a Daughter and Mother-In-Law Duo from New York with your not so typical relationship. Sit back and enjoy each episode while feeling like you're in the room with them having a dope conversation. Support this podcast: https://anchor.fm/agahmil/support\n",
      "\n",
      "Episode name:\n",
      "\t Happy HalloWEENIE!\n",
      "Episode description: \n",
      "\t In this episode, Liss & Geri talk about what's new and give their advice in this on your guy's situations! We hope you enjoy, sit down, and have a nice drink.  Send questions, topics you'd like to hear, advice you may want,  or really anything you wanna tell us. You can send it as a regular email, video, or audio message. Please send to  agahmilpodcast  at  gmail.com  ---   This episode is sponsored by  · Oops Podcast: The Oops podcast examines the mistakes that change the trajectory of people’s lives: the bad decisions, the aftermath, the path to redemption and all things in between. https://open.spotify.com/show/70QREbmvK41DTlzttvWt3f?si=LcDth1spSK-o5Nhbe96QVQ  Support this podcast: https://anchor.fm/agahmil/support\n"
     ]
    }
   ],
   "source": [
    "ep = metadata[metadata.episode_uri == df.uri.iloc[i]]\n",
    "print(\"Show name: \\n\\t\", ep.show_name.iloc[0])\n",
    "print(\"Show description: \\n\\t\", ep.show_description.iloc[0])\n",
    "print()\n",
    "print(\"Episode name:\\n\\t\", ep.episode_name.iloc[0])\n",
    "print(\"Episode description: \\n\\t\", ep.episode_description.iloc[0])"
   ]
  },
  {
   "cell_type": "markdown",
<<<<<<< Updated upstream
   "id": "acoustic-reservation",
=======
   "id": "endangered-washington",
>>>>>>> Stashed changes
   "metadata": {},
   "source": [
    "Loop the following section, listen to the audio, fill in the label for how entertaining it was"
   ]
  },
  {
   "cell_type": "code",
<<<<<<< Updated upstream
   "execution_count": null,
   "id": "brazilian-navigator",
=======
   "execution_count": 146,
   "id": "horizontal-insert",
>>>>>>> Stashed changes
   "metadata": {},
   "outputs": [
    {
     "ename": "ValueError",
     "evalue": "zero-size array to reduction operation maximum which has no identity",
     "output_type": "error",
     "traceback": [
      "\u001b[0;31m---------------------------------------------------------------------------\u001b[0m",
      "\u001b[0;31mValueError\u001b[0m                                Traceback (most recent call last)",
      "\u001b[0;32m<ipython-input-146-bae3c02f7967>\u001b[0m in \u001b[0;36m<module>\u001b[0;34m\u001b[0m\n\u001b[1;32m      1\u001b[0m \u001b[0maudio\u001b[0m\u001b[0;34m,\u001b[0m \u001b[0msr\u001b[0m \u001b[0;34m=\u001b[0m \u001b[0maudio_snippet\u001b[0m\u001b[0;34m(\u001b[0m\u001b[0mdf\u001b[0m\u001b[0;34m.\u001b[0m\u001b[0muri\u001b[0m\u001b[0;34m.\u001b[0m\u001b[0miloc\u001b[0m\u001b[0;34m[\u001b[0m\u001b[0mi\u001b[0m\u001b[0;34m]\u001b[0m\u001b[0;34m,\u001b[0m \u001b[0mint\u001b[0m\u001b[0;34m(\u001b[0m\u001b[0mfloat\u001b[0m\u001b[0;34m(\u001b[0m\u001b[0mdf\u001b[0m\u001b[0;34m.\u001b[0m\u001b[0mtimestamp\u001b[0m\u001b[0;34m.\u001b[0m\u001b[0miloc\u001b[0m\u001b[0;34m[\u001b[0m\u001b[0mi\u001b[0m\u001b[0;34m]\u001b[0m\u001b[0;34m)\u001b[0m\u001b[0;34m)\u001b[0m\u001b[0;34m,\u001b[0m \u001b[0mmetadata\u001b[0m\u001b[0;34m)\u001b[0m\u001b[0;34m\u001b[0m\u001b[0;34m\u001b[0m\u001b[0m\n\u001b[0;32m----> 2\u001b[0;31m \u001b[0mAudio\u001b[0m\u001b[0;34m(\u001b[0m\u001b[0mnp\u001b[0m\u001b[0;34m.\u001b[0m\u001b[0mmean\u001b[0m\u001b[0;34m(\u001b[0m\u001b[0maudio\u001b[0m\u001b[0;34m,\u001b[0m \u001b[0maxis\u001b[0m\u001b[0;34m=\u001b[0m\u001b[0;36m1\u001b[0m\u001b[0;34m)\u001b[0m\u001b[0;34m,\u001b[0m \u001b[0mrate\u001b[0m\u001b[0;34m=\u001b[0m\u001b[0msr\u001b[0m\u001b[0;34m)\u001b[0m\u001b[0;34m\u001b[0m\u001b[0;34m\u001b[0m\u001b[0m\n\u001b[0m",
      "\u001b[0;32m/unix/cdtdisspotify/env/envs/podcasts/lib/python3.8/site-packages/IPython/lib/display.py\u001b[0m in \u001b[0;36m__init__\u001b[0;34m(self, data, filename, url, embed, rate, autoplay, normalize, element_id)\u001b[0m\n\u001b[1;32m    115\u001b[0m             \u001b[0;32mif\u001b[0m \u001b[0mrate\u001b[0m \u001b[0;32mis\u001b[0m \u001b[0;32mNone\u001b[0m\u001b[0;34m:\u001b[0m\u001b[0;34m\u001b[0m\u001b[0;34m\u001b[0m\u001b[0m\n\u001b[1;32m    116\u001b[0m                 \u001b[0;32mraise\u001b[0m \u001b[0mValueError\u001b[0m\u001b[0;34m(\u001b[0m\u001b[0;34m\"rate must be specified when data is a numpy array or list of audio samples.\"\u001b[0m\u001b[0;34m)\u001b[0m\u001b[0;34m\u001b[0m\u001b[0;34m\u001b[0m\u001b[0m\n\u001b[0;32m--> 117\u001b[0;31m             \u001b[0mself\u001b[0m\u001b[0;34m.\u001b[0m\u001b[0mdata\u001b[0m \u001b[0;34m=\u001b[0m \u001b[0mAudio\u001b[0m\u001b[0;34m.\u001b[0m\u001b[0m_make_wav\u001b[0m\u001b[0;34m(\u001b[0m\u001b[0mdata\u001b[0m\u001b[0;34m,\u001b[0m \u001b[0mrate\u001b[0m\u001b[0;34m,\u001b[0m \u001b[0mnormalize\u001b[0m\u001b[0;34m)\u001b[0m\u001b[0;34m\u001b[0m\u001b[0;34m\u001b[0m\u001b[0m\n\u001b[0m\u001b[1;32m    118\u001b[0m \u001b[0;34m\u001b[0m\u001b[0m\n\u001b[1;32m    119\u001b[0m     \u001b[0;32mdef\u001b[0m \u001b[0mreload\u001b[0m\u001b[0;34m(\u001b[0m\u001b[0mself\u001b[0m\u001b[0;34m)\u001b[0m\u001b[0;34m:\u001b[0m\u001b[0;34m\u001b[0m\u001b[0;34m\u001b[0m\u001b[0m\n",
      "\u001b[0;32m/unix/cdtdisspotify/env/envs/podcasts/lib/python3.8/site-packages/IPython/lib/display.py\u001b[0m in \u001b[0;36m_make_wav\u001b[0;34m(data, rate, normalize)\u001b[0m\n\u001b[1;32m    137\u001b[0m \u001b[0;34m\u001b[0m\u001b[0m\n\u001b[1;32m    138\u001b[0m         \u001b[0;32mtry\u001b[0m\u001b[0;34m:\u001b[0m\u001b[0;34m\u001b[0m\u001b[0;34m\u001b[0m\u001b[0m\n\u001b[0;32m--> 139\u001b[0;31m             \u001b[0mscaled\u001b[0m\u001b[0;34m,\u001b[0m \u001b[0mnchan\u001b[0m \u001b[0;34m=\u001b[0m \u001b[0mAudio\u001b[0m\u001b[0;34m.\u001b[0m\u001b[0m_validate_and_normalize_with_numpy\u001b[0m\u001b[0;34m(\u001b[0m\u001b[0mdata\u001b[0m\u001b[0;34m,\u001b[0m \u001b[0mnormalize\u001b[0m\u001b[0;34m)\u001b[0m\u001b[0;34m\u001b[0m\u001b[0;34m\u001b[0m\u001b[0m\n\u001b[0m\u001b[1;32m    140\u001b[0m         \u001b[0;32mexcept\u001b[0m \u001b[0mImportError\u001b[0m\u001b[0;34m:\u001b[0m\u001b[0;34m\u001b[0m\u001b[0;34m\u001b[0m\u001b[0m\n\u001b[1;32m    141\u001b[0m             \u001b[0mscaled\u001b[0m\u001b[0;34m,\u001b[0m \u001b[0mnchan\u001b[0m \u001b[0;34m=\u001b[0m \u001b[0mAudio\u001b[0m\u001b[0;34m.\u001b[0m\u001b[0m_validate_and_normalize_without_numpy\u001b[0m\u001b[0;34m(\u001b[0m\u001b[0mdata\u001b[0m\u001b[0;34m,\u001b[0m \u001b[0mnormalize\u001b[0m\u001b[0;34m)\u001b[0m\u001b[0;34m\u001b[0m\u001b[0;34m\u001b[0m\u001b[0m\n",
      "\u001b[0;32m/unix/cdtdisspotify/env/envs/podcasts/lib/python3.8/site-packages/IPython/lib/display.py\u001b[0m in \u001b[0;36m_validate_and_normalize_with_numpy\u001b[0;34m(data, normalize)\u001b[0m\n\u001b[1;32m    170\u001b[0m             \u001b[0;32mraise\u001b[0m \u001b[0mValueError\u001b[0m\u001b[0;34m(\u001b[0m\u001b[0;34m'Array audio input must be a 1D or 2D array'\u001b[0m\u001b[0;34m)\u001b[0m\u001b[0;34m\u001b[0m\u001b[0;34m\u001b[0m\u001b[0m\n\u001b[1;32m    171\u001b[0m \u001b[0;34m\u001b[0m\u001b[0m\n\u001b[0;32m--> 172\u001b[0;31m         \u001b[0mmax_abs_value\u001b[0m \u001b[0;34m=\u001b[0m \u001b[0mnp\u001b[0m\u001b[0;34m.\u001b[0m\u001b[0mmax\u001b[0m\u001b[0;34m(\u001b[0m\u001b[0mnp\u001b[0m\u001b[0;34m.\u001b[0m\u001b[0mabs\u001b[0m\u001b[0;34m(\u001b[0m\u001b[0mdata\u001b[0m\u001b[0;34m)\u001b[0m\u001b[0;34m)\u001b[0m\u001b[0;34m\u001b[0m\u001b[0;34m\u001b[0m\u001b[0m\n\u001b[0m\u001b[1;32m    173\u001b[0m         \u001b[0mnormalization_factor\u001b[0m \u001b[0;34m=\u001b[0m \u001b[0mAudio\u001b[0m\u001b[0;34m.\u001b[0m\u001b[0m_get_normalization_factor\u001b[0m\u001b[0;34m(\u001b[0m\u001b[0mmax_abs_value\u001b[0m\u001b[0;34m,\u001b[0m \u001b[0mnormalize\u001b[0m\u001b[0;34m)\u001b[0m\u001b[0;34m\u001b[0m\u001b[0;34m\u001b[0m\u001b[0m\n\u001b[1;32m    174\u001b[0m         \u001b[0mscaled\u001b[0m \u001b[0;34m=\u001b[0m \u001b[0mdata\u001b[0m \u001b[0;34m/\u001b[0m \u001b[0mnormalization_factor\u001b[0m \u001b[0;34m*\u001b[0m \u001b[0;36m32767\u001b[0m\u001b[0;34m\u001b[0m\u001b[0;34m\u001b[0m\u001b[0m\n",
      "\u001b[0;32m<__array_function__ internals>\u001b[0m in \u001b[0;36mamax\u001b[0;34m(*args, **kwargs)\u001b[0m\n",
      "\u001b[0;32m~/.local/lib/python3.8/site-packages/numpy/core/fromnumeric.py\u001b[0m in \u001b[0;36mamax\u001b[0;34m(a, axis, out, keepdims, initial, where)\u001b[0m\n\u001b[1;32m   2703\u001b[0m     \u001b[0;36m5\u001b[0m\u001b[0;34m\u001b[0m\u001b[0;34m\u001b[0m\u001b[0m\n\u001b[1;32m   2704\u001b[0m     \"\"\"\n\u001b[0;32m-> 2705\u001b[0;31m     return _wrapreduction(a, np.maximum, 'max', axis, None, out,\n\u001b[0m\u001b[1;32m   2706\u001b[0m                           keepdims=keepdims, initial=initial, where=where)\n\u001b[1;32m   2707\u001b[0m \u001b[0;34m\u001b[0m\u001b[0m\n",
      "\u001b[0;32m~/.local/lib/python3.8/site-packages/numpy/core/fromnumeric.py\u001b[0m in \u001b[0;36m_wrapreduction\u001b[0;34m(obj, ufunc, method, axis, dtype, out, **kwargs)\u001b[0m\n\u001b[1;32m     85\u001b[0m                 \u001b[0;32mreturn\u001b[0m \u001b[0mreduction\u001b[0m\u001b[0;34m(\u001b[0m\u001b[0maxis\u001b[0m\u001b[0;34m=\u001b[0m\u001b[0maxis\u001b[0m\u001b[0;34m,\u001b[0m \u001b[0mout\u001b[0m\u001b[0;34m=\u001b[0m\u001b[0mout\u001b[0m\u001b[0;34m,\u001b[0m \u001b[0;34m**\u001b[0m\u001b[0mpasskwargs\u001b[0m\u001b[0;34m)\u001b[0m\u001b[0;34m\u001b[0m\u001b[0;34m\u001b[0m\u001b[0m\n\u001b[1;32m     86\u001b[0m \u001b[0;34m\u001b[0m\u001b[0m\n\u001b[0;32m---> 87\u001b[0;31m     \u001b[0;32mreturn\u001b[0m \u001b[0mufunc\u001b[0m\u001b[0;34m.\u001b[0m\u001b[0mreduce\u001b[0m\u001b[0;34m(\u001b[0m\u001b[0mobj\u001b[0m\u001b[0;34m,\u001b[0m \u001b[0maxis\u001b[0m\u001b[0;34m,\u001b[0m \u001b[0mdtype\u001b[0m\u001b[0;34m,\u001b[0m \u001b[0mout\u001b[0m\u001b[0;34m,\u001b[0m \u001b[0;34m**\u001b[0m\u001b[0mpasskwargs\u001b[0m\u001b[0;34m)\u001b[0m\u001b[0;34m\u001b[0m\u001b[0;34m\u001b[0m\u001b[0m\n\u001b[0m\u001b[1;32m     88\u001b[0m \u001b[0;34m\u001b[0m\u001b[0m\n\u001b[1;32m     89\u001b[0m \u001b[0;34m\u001b[0m\u001b[0m\n",
      "\u001b[0;31mValueError\u001b[0m: zero-size array to reduction operation maximum which has no identity"
     ]
    }
   ],
   "source": [
    "audio, sr = audio_snippet(df.uri.iloc[i], int(float(df.timestamp.iloc[i])), metadata)\n",
    "Audio(np.mean(audio, axis=1), rate=sr)"
   ]
  },
  {
   "cell_type": "markdown",
<<<<<<< Updated upstream
   "id": "fitting-interest",
=======
   "id": "limiting-familiar",
>>>>>>> Stashed changes
   "metadata": {},
   "source": [
    "__Select multiple from \"storytelling\", \"excitement\", \"funny\", \"angry\", \"sad\"__"
   ]
  },
  {
   "cell_type": "code",
<<<<<<< Updated upstream
   "execution_count": null,
   "id": "above-kenya",
   "metadata": {},
   "outputs": [],
   "source": [
    "df[\"entertaining\"].iloc[i] = [\"funny\"]"
=======
   "execution_count": 138,
   "id": "final-potato",
   "metadata": {},
   "outputs": [],
   "source": [
    "df[\"entertaining\"].iloc[i] = [\"storytelling\"] #[\"storytelling\", \"excitement\", \"funny\", \"angry\", \"sad\"]"
>>>>>>> Stashed changes
   ]
  },
  {
   "cell_type": "markdown",
<<<<<<< Updated upstream
   "id": "fifty-maple",
=======
   "id": "determined-reward",
>>>>>>> Stashed changes
   "metadata": {},
   "source": [
    "__Select multiple from \"narration/monologue\", \"conversation\", \"debate\", \"interview\"__"
   ]
  },
  {
   "cell_type": "code",
<<<<<<< Updated upstream
   "execution_count": null,
   "id": "fifteen-turkish",
   "metadata": {},
   "outputs": [],
   "source": [
    "df[\"discussion\"].iloc[i] = [\"debate\"]"
=======
   "execution_count": 139,
   "id": "dietary-freeze",
   "metadata": {},
   "outputs": [],
   "source": [
    "df[\"discussion\"].iloc[i] = [\"narration/monologue\"] #[\"narration/monologue\", \"conversation\", \"debate\", \"interview\"]"
>>>>>>> Stashed changes
   ]
  },
  {
   "cell_type": "markdown",
<<<<<<< Updated upstream
   "id": "secure-willow",
=======
   "id": "mighty-setup",
>>>>>>> Stashed changes
   "metadata": {},
   "source": [
    "__Select multiple from \"Disapproval\", \"Approval\"__"
   ]
  },
  {
   "cell_type": "code",
<<<<<<< Updated upstream
   "execution_count": null,
   "id": "rough-nicaragua",
   "metadata": {},
   "outputs": [],
   "source": [
    "df[\"subjective\"].iloc[i] = [\"Disapproval\"]"
=======
   "execution_count": 140,
   "id": "electoral-vietnam",
   "metadata": {},
   "outputs": [],
   "source": [
    "df[\"subjective\"].iloc[i] = []#[\"Disapproval\", \"Approval\"]"
>>>>>>> Stashed changes
   ]
  },
  {
   "cell_type": "code",
<<<<<<< Updated upstream
   "execution_count": null,
   "id": "mobile-operations",
=======
   "execution_count": 147,
   "id": "august-liability",
>>>>>>> Stashed changes
   "metadata": {},
   "outputs": [
    {
     "name": "stdout",
     "output_type": "stream",
     "text": [
      "Are you done? YES!      (100% done)\n"
     ]
    }
   ],
   "source": [
    "i += 1\n",
    "print(f\"Are you done? {'YES!' if i == len(df) else 'NO!'}      ({(i)/len(df)*100:.0f}% done)\" )"
   ]
  },
  {
   "cell_type": "markdown",
<<<<<<< Updated upstream
   "id": "compact-chart",
=======
   "id": "distributed-calculator",
>>>>>>> Stashed changes
   "metadata": {},
   "source": [
    "# Final Check + Save"
   ]
  },
  {
   "cell_type": "code",
<<<<<<< Updated upstream
   "execution_count": null,
   "id": "comparative-pixel",
=======
   "execution_count": 154,
   "id": "funny-italic",
>>>>>>> Stashed changes
   "metadata": {},
   "outputs": [
    {
     "name": "stdout",
     "output_type": "stream",
     "text": [
      "All entries rated\n"
     ]
    }
   ],
   "source": [
    "missing = (df.entertaining == -99) | (df.discussion == - 99)\n",
    "if sum(missing) == 0:\n",
    "    print(\"All entries rated\")\n",
    "    done = True\n",
    "else:\n",
    "    print(f\"Missing ratings for i= {list(np.where(missing)[0])}\")\n",
    "    done = False"
   ]
  },
  {
   "cell_type": "code",
<<<<<<< Updated upstream
   "execution_count": null,
   "id": "illegal-fetish",
=======
   "execution_count": 155,
   "id": "prepared-seating",
>>>>>>> Stashed changes
   "metadata": {},
   "outputs": [],
   "source": [
    "if done:\n",
    "    df.to_csv(f\"uri_set_labeled_blm.csv\")\n",
    "else:\n",
    "    print(\"Please first finish the labeling\")"
   ]
  },
  {
   "cell_type": "code",
   "execution_count": 151,
   "id": "judicial-tamil",
   "metadata": {},
   "outputs": [
    {
     "data": {
      "text/plain": [
       "query                                               34\n",
       "zero                                                 0\n",
       "uri             spotify:episode:4CirgKQFgg5fBsXYJf2IAJ\n",
       "relevance                                            1\n",
       "timestamp                                       6360.0\n",
       "entertaining                                     -99.0\n",
       "discussion                                       -99.0\n",
       "subjective                                       -99.0\n",
       "Name: 4680, dtype: object"
      ]
     },
     "execution_count": 151,
     "metadata": {},
     "output_type": "execute_result"
    }
   ],
   "source": [
    "df.iloc[21]"
   ]
  },
  {
   "cell_type": "code",
   "execution_count": 153,
   "id": "deadly-conducting",
   "metadata": {},
   "outputs": [],
   "source": [
    "df.drop(4680, inplace=True)"
   ]
  },
  {
   "cell_type": "code",
   "execution_count": null,
<<<<<<< Updated upstream
   "id": "needed-blocking",
=======
   "id": "baking-import",
>>>>>>> Stashed changes
   "metadata": {},
   "outputs": [],
   "source": []
  }
 ],
 "metadata": {
  "kernelspec": {
   "display_name": "Python 3",
   "language": "python",
   "name": "python3"
  },
  "language_info": {
   "codemirror_mode": {
    "name": "ipython",
    "version": 3
   },
   "file_extension": ".py",
   "mimetype": "text/x-python",
   "name": "python",
   "nbconvert_exporter": "python",
   "pygments_lexer": "ipython3",
   "version": "3.8.6"
  }
 },
 "nbformat": 4,
 "nbformat_minor": 5
}
