{
 "cells": [
  {
   "cell_type": "markdown",
   "id": "connected-newport",
   "metadata": {},
   "source": [
    "# Setup"
   ]
  },
  {
   "cell_type": "code",
   "execution_count": null,
   "id": "foreign-overall",
   "metadata": {},
   "outputs": [],
   "source": [
    "import os\n",
    "import numpy as np\n",
    "import pandas as pd\n",
    "import soundfile as sf"
   ]
  },
  {
   "cell_type": "code",
   "execution_count": null,
   "id": "prostate-deployment",
   "metadata": {},
   "outputs": [],
   "source": [
    "from src.data import load_metadata, find_paths\n",
    "from omegaconf import OmegaConf\n",
    "from IPython.display import Audio\n",
    "    \n",
    "\n",
    "conf = OmegaConf.load(\"../config.yaml\")\n",
    "DATA_AUDIO = os.path.join(conf.dataset_path, \"podcasts-audio\")"
   ]
  },
  {
   "cell_type": "code",
   "execution_count": null,
   "id": "flexible-board",
   "metadata": {},
   "outputs": [],
   "source": [
    "import warnings\n",
    "warnings.filterwarnings('ignore')\n",
    "\n",
    "done = False"
   ]
  },
  {
   "cell_type": "code",
   "execution_count": null,
   "id": "third-attendance",
   "metadata": {},
   "outputs": [],
   "source": [
    "uri_file = \"blm.txt\" # TODO maybe you need to change this"
   ]
  },
  {
   "cell_type": "code",
   "execution_count": null,
   "id": "human-number",
   "metadata": {},
   "outputs": [],
   "source": [
    "# loading metadata\n",
    "metadata = load_metadata(conf.dataset_path)"
   ]
  },
  {
   "cell_type": "code",
   "execution_count": null,
   "id": "german-programmer",
   "metadata": {},
   "outputs": [],
   "source": [
    "def audio_snippet(uri, starttime, metadata, duration=120):\n",
    "    episode = metadata[(metadata.episode_uri == uri).values]\n",
    "    audio_file = find_paths(episode, DATA_AUDIO, \".ogg\")\n",
    "    snippet, sr = sf.read(audio_file[0], start=starttime*44100, stop=(starttime+duration)*44100, dtype=np.int16)\n",
    "    return snippet, sr"
   ]
  },
  {
   "cell_type": "code",
   "execution_count": null,
   "id": "awful-exploration",
   "metadata": {},
   "outputs": [],
   "source": [
    "try:\n",
    "    df = pd.read_csv(f\"uri_set_labeled_blm.csv\")\n",
    "    df.set_index(\"Unnamed: 0\", inplace=True)\n",
    "except:\n",
    "    print(\"saved file doesn't exist yet\")\n",
    "    segments = np.array([i.split('_') for i in  np.loadtxt(uri_file, dtype=str) ] )\n",
    "    df = pd.DataFrame(segments, columns=['uri', 'timestamp'])\n",
    "    df['uri'] = \"spotify:episode:\" + df['uri']\n",
    "    df[\"entertaining\"] = np.ones(len(df)) * -99\n",
    "    df[\"discussion\"] = np.ones(len(df)) * -99\n",
    "    df[\"subjective\"] = np.ones(len(df)) * -99"
   ]
  },
  {
   "cell_type": "code",
   "execution_count": null,
   "id": "particular-mouth",
   "metadata": {},
   "outputs": [],
   "source": [
    "# finding where you left off:\n",
    "for i in range(len(df)):\n",
    "    if df.entertaining.iloc[i] == -99:\n",
    "        break"
   ]
  },
  {
   "cell_type": "code",
   "execution_count": null,
   "id": "reserved-active",
   "metadata": {},
   "outputs": [],
   "source": [
    "print(i)"
   ]
  },
  {
   "cell_type": "markdown",
   "id": "palestinian-wesley",
   "metadata": {},
   "source": [
    "# Select Topic"
   ]
  },
  {
   "cell_type": "code",
   "execution_count": null,
   "id": "desperate-smoke",
   "metadata": {},
   "outputs": [],
   "source": [
    "topic = 34"
   ]
  },
  {
   "cell_type": "code",
   "execution_count": null,
   "id": "concerned-brooks",
   "metadata": {},
   "outputs": [],
   "source": [
    "subset = qrels.iloc[ (qrels[\"query\"] == topic).values]"
   ]
  },
  {
   "cell_type": "code",
   "execution_count": null,
   "id": "governmental-shelf",
   "metadata": {},
   "outputs": [],
   "source": [
    "df = pd.DataFrame(columns=subset.columns)\n",
    "for i in range(5):\n",
    "    relevant = subset[subset.relevance == i]\n",
    "    order = np.random.permutation(len(relevant))\n",
    "    df = df.append(relevant.iloc[order].iloc[:5])\n",
    "df[\"entertaining\"] = np.ones(len(df)) * -99\n",
    "df[\"discussion\"] = np.ones(len(df)) * -99\n",
    "df[\"subjective\"] = np.ones(len(df)) * -99\n",
    "df = df.sample(frac=1, random_state=42)"
   ]
  },
  {
   "cell_type": "code",
   "execution_count": null,
   "id": "architectural-paragraph",
   "metadata": {},
   "outputs": [],
   "source": [
    "for i in range(5):\n",
    "    print(f\"There are {sum(subset.relevance == i):>4} episodes with relevancy {i}\")"
   ]
  },
  {
   "cell_type": "code",
   "execution_count": null,
   "id": "meaning-jenny",
   "metadata": {},
   "outputs": [],
   "source": [
    "i = 0"
   ]
  },
  {
   "cell_type": "markdown",
   "id": "magnetic-negative",
   "metadata": {},
   "source": [
    "# Loop this"
   ]
  },
  {
   "cell_type": "code",
   "execution_count": null,
   "id": "compatible-nothing",
   "metadata": {},
   "outputs": [],
   "source": [
    "ep = metadata[metadata.episode_uri == df.uri.iloc[i]]\n",
    "print(\"Show name: \\n\\t\", ep.show_name.iloc[0])\n",
    "print(\"Show description: \\n\\t\", ep.show_description.iloc[0])\n",
    "print()\n",
    "print(\"Episode name:\\n\\t\", ep.episode_name.iloc[0])\n",
    "print(\"Episode description: \\n\\t\", ep.episode_description.iloc[0])"
   ]
  },
  {
   "cell_type": "markdown",
   "id": "acoustic-reservation",
   "metadata": {},
   "source": [
    "Loop the following section, listen to the audio, fill in the label for how entertaining it was"
   ]
  },
  {
   "cell_type": "code",
   "execution_count": null,
   "id": "brazilian-navigator",
   "metadata": {},
   "outputs": [],
   "source": [
    "audio, sr = audio_snippet(df.uri.iloc[i], int(float(df.timestamp.iloc[i])), metadata)\n",
    "Audio(np.mean(audio, axis=1), rate=sr)"
   ]
  },
  {
   "cell_type": "markdown",
   "id": "fitting-interest",
   "metadata": {},
   "source": [
    "__Select multiple from \"storytelling\", \"excitement\", \"funny\", \"angry\", \"sad\"__"
   ]
  },
  {
   "cell_type": "code",
   "execution_count": null,
   "id": "above-kenya",
   "metadata": {},
   "outputs": [],
   "source": [
    "df[\"entertaining\"].iloc[i] = [\"funny\"]"
   ]
  },
  {
   "cell_type": "markdown",
   "id": "fifty-maple",
   "metadata": {},
   "source": [
    "__Select multiple from \"narration/monologue\", \"conversation\", \"debate\", \"interview\"__"
   ]
  },
  {
   "cell_type": "code",
   "execution_count": null,
   "id": "fifteen-turkish",
   "metadata": {},
   "outputs": [],
   "source": [
    "df[\"discussion\"].iloc[i] = [\"debate\"]"
   ]
  },
  {
   "cell_type": "markdown",
   "id": "secure-willow",
   "metadata": {},
   "source": [
    "__Select multiple from \"Disapproval\", \"Approval\"__"
   ]
  },
  {
   "cell_type": "code",
   "execution_count": null,
   "id": "rough-nicaragua",
   "metadata": {},
   "outputs": [],
   "source": [
    "df[\"subjective\"].iloc[i] = [\"Disapproval\"]"
   ]
  },
  {
   "cell_type": "code",
   "execution_count": null,
   "id": "mobile-operations",
   "metadata": {},
   "outputs": [],
   "source": [
    "i += 1\n",
    "print(f\"Are you done? {'YES!' if i == len(df) else 'NO!'}      ({(i)/len(df)*100:.0f}% done)\" )"
   ]
  },
  {
   "cell_type": "markdown",
   "id": "compact-chart",
   "metadata": {},
   "source": [
    "# Final Check + Save"
   ]
  },
  {
   "cell_type": "code",
   "execution_count": null,
   "id": "comparative-pixel",
   "metadata": {},
   "outputs": [],
   "source": [
    "missing = (df.entertaining == -99) | (df.discussion == - 99)\n",
    "if sum(missing) == 0:\n",
    "    print(\"All entries rated\")\n",
    "    done = True\n",
    "else:\n",
    "    print(f\"Missing ratings for i= {list(np.where(missing)[0])}\")\n",
    "    done = False"
   ]
  },
  {
   "cell_type": "code",
   "execution_count": null,
   "id": "illegal-fetish",
   "metadata": {},
   "outputs": [],
   "source": [
    "if done:\n",
    "    df.to_csv(f\"uri_set_labeled_blm.csv\")\n",
    "else:\n",
    "    print(\"Please first finish the labeling\")"
   ]
  },
  {
   "cell_type": "code",
   "execution_count": null,
   "id": "needed-blocking",
   "metadata": {},
   "outputs": [],
   "source": []
  }
 ],
 "metadata": {
  "kernelspec": {
   "display_name": "Python 3",
   "language": "python",
   "name": "python3"
  },
  "language_info": {
   "codemirror_mode": {
    "name": "ipython",
    "version": 3
   },
   "file_extension": ".py",
   "mimetype": "text/x-python",
   "name": "python",
   "nbconvert_exporter": "python",
   "pygments_lexer": "ipython3",
   "version": "3.8.6"
  }
 },
 "nbformat": 4,
 "nbformat_minor": 5
}
